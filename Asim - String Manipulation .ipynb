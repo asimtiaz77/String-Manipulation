{
 "cells": [
  {
   "cell_type": "code",
   "execution_count": 1,
   "id": "d088e01a",
   "metadata": {},
   "outputs": [
    {
     "name": "stdout",
     "output_type": "stream",
     "text": [
      "Enter your name: Asim\n",
      "Hello, Asim! Nice to meet you.\n"
     ]
    }
   ],
   "source": [
    "# Greeting message\n",
    "name = input(\"Enter your name: \")\n",
    "\n",
    "greeting_message = \"Hello, \" + name + \"! Nice to meet you.\"\n",
    "\n",
    "print(greeting_message)"
   ]
  },
  {
   "cell_type": "code",
   "execution_count": 2,
   "id": "32bf5e11",
   "metadata": {},
   "outputs": [
    {
     "name": "stdout",
     "output_type": "stream",
     "text": [
      "Enter a word: Python\n",
      "Reversed: nohtyP\n"
     ]
    }
   ],
   "source": [
    "# Reversed string \n",
    "word = input(\"Enter a word: \")\n",
    "\n",
    "reversed_word = word[::-1]\n",
    "\n",
    "print(\"Reversed:\", reversed_word)"
   ]
  },
  {
   "cell_type": "code",
   "execution_count": 3,
   "id": "aebdef89",
   "metadata": {},
   "outputs": [
    {
     "name": "stdout",
     "output_type": "stream",
     "text": [
      "Enter a sentence: Epidemiology can either be descriptive or analytical\n",
      "The sentence has 52 characters.\n"
     ]
    }
   ],
   "source": [
    "# String length \n",
    "sentence = input(\"Enter a sentence: \")\n",
    "\n",
    "num_characters = len(sentence)\n",
    "\n",
    "print(\"The sentence has\", num_characters, \"characters.\")"
   ]
  },
  {
   "cell_type": "code",
   "execution_count": 4,
   "id": "b806e36b",
   "metadata": {},
   "outputs": [
    {
     "name": "stdout",
     "output_type": "stream",
     "text": [
      "Enter a word or sentence: It is quite hot in Tampa today\n",
      "Number of vowels: 11\n"
     ]
    }
   ],
   "source": [
    "# Vowel count \n",
    "word_or_sentence = input(\"Enter a word or sentence: \")\n",
    "\n",
    "word_or_sentence = word_or_sentence.lower()\n",
    "\n",
    "num_vowels = 0\n",
    "for char in word_or_sentence:\n",
    "    if char in 'aeiou':\n",
    "        num_vowels += 1\n",
    "\n",
    "print(\"Number of vowels:\", num_vowels)"
   ]
  },
  {
   "cell_type": "code",
   "execution_count": 6,
   "id": "0057b644",
   "metadata": {},
   "outputs": [
    {
     "name": "stdout",
     "output_type": "stream",
     "text": [
      "Enter a word: Kayak\n",
      "The word is not a palindrome.\n"
     ]
    }
   ],
   "source": [
    "# Palindrome check\n",
    "word = input(\"Enter a word: \")\n",
    "\n",
    "if word == word[::-1]:\n",
    "    print(\"The word is a palindrome.\")\n",
    "else:\n",
    "    print(\"The word is not a palindrome.\")"
   ]
  },
  {
   "cell_type": "code",
   "execution_count": 7,
   "id": "da660470",
   "metadata": {},
   "outputs": [
    {
     "name": "stdout",
     "output_type": "stream",
     "text": [
      "Enter your secret message: The secret code is 321\n",
      "Encrypted secret message: THE_SECRET_CODE_IS_321\n"
     ]
    }
   ],
   "source": [
    "# Secret message\n",
    "secret_message = input(\"Enter your secret message: \")\n",
    "\n",
    "encrypted_message = secret_message.upper().replace(' ', '_')\n",
    "\n",
    "print(\"Encrypted secret message:\", encrypted_message)"
   ]
  },
  {
   "cell_type": "code",
   "execution_count": null,
   "id": "a76249b6",
   "metadata": {},
   "outputs": [],
   "source": []
  }
 ],
 "metadata": {
  "kernelspec": {
   "display_name": "Python 3 (ipykernel)",
   "language": "python",
   "name": "python3"
  },
  "language_info": {
   "codemirror_mode": {
    "name": "ipython",
    "version": 3
   },
   "file_extension": ".py",
   "mimetype": "text/x-python",
   "name": "python",
   "nbconvert_exporter": "python",
   "pygments_lexer": "ipython3",
   "version": "3.11.4"
  }
 },
 "nbformat": 4,
 "nbformat_minor": 5
}
